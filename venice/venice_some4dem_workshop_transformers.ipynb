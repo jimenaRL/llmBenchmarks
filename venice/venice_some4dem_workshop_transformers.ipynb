{
 "cells": [
  {
   "cell_type": "markdown",
   "id": "a8c36800-5d6d-469c-81d5-d2b85983920a",
   "metadata": {},
   "source": [
    "# Venice some4dem workshop"
   ]
  },
  {
   "cell_type": "markdown",
   "id": "e6903819-98ba-4d74-9ab1-01b58a935812",
   "metadata": {},
   "source": [
    "## Transformer inference"
   ]
  },
  {
   "cell_type": "markdown",
   "id": "ff007628-950b-4930-ad13-6fe99cd6c352",
   "metadata": {},
   "source": [
    "### (1) Promts preparation"
   ]
  },
  {
   "cell_type": "code",
   "execution_count": 1,
   "id": "f14dee19-0ac0-4f00-ab91-b91a6c9a9922",
   "metadata": {},
   "outputs": [],
   "source": [
    "import os\n",
    "import time\n",
    "import json\n",
    "from tqdm import tqdm\n",
    "from string import Template\n",
    "\n",
    "from essential_generators import DocumentGenerator"
   ]
  },
  {
   "cell_type": "code",
   "execution_count": 2,
   "id": "a8e307bd-3112-40d1-b9d7-492fe9635728",
   "metadata": {},
   "outputs": [],
   "source": [
    "system_content = \"You are an expert in politics.\"\n",
    "\n",
    "instructions = \"\"\"Please classify the following social media profile according\n",
    "to whether it expresses support or positive attitudes towards  French righ wing parties.\n",
    "Here is the message: '${text}'\"\"\"\n",
    "\n",
    "def make_promts(text):\n",
    "    return [\n",
    "        {\"role\": \"system\", \"content\": system_content},\n",
    "        {\"role\": \"user\", \"content\": Template(instructions).substitute(text=text)},\n",
    "    ]"
   ]
  },
  {
   "cell_type": "code",
   "execution_count": 3,
   "id": "664aba64-8b41-40cc-a14b-583144a43363",
   "metadata": {},
   "outputs": [],
   "source": [
    "text1 = \"\"\"Gaulliste/souveraineté nationale et populaire.\n",
    "Cofondateur du Mouvement Politique Citoyen.\n",
    "Rejoignez-nous, Adhérer ⤵️, Aidez-nous à sauver la France !\"\"\"\n",
    "\n",
    "text2 = \"\"\"Le coeur qui bat à gauche • Avec @egregoire\n",
    " pour un @paris_en_grand\n",
    " • Anime @coeurgauche75\n",
    " •🗣️🇪🇺 au @partisocialiste\n",
    " et 🇫🇷au @pes_pse\n",
    " • Militant @psparis10\"\"\""
   ]
  },
  {
   "cell_type": "code",
   "execution_count": 4,
   "id": "92a961b1-c911-493d-b9d6-bb95b3f0fc1b",
   "metadata": {},
   "outputs": [
    {
     "data": {
      "text/plain": [
       "[{'role': 'system', 'content': 'You are an expert in politics.'},\n",
       " {'role': 'user',\n",
       "  'content': \"Please classify the following social media profile according\\nto whether it expresses support or positive attitudes towards  French righ wing parties.\\nHere is the message: 'Gaulliste/souveraineté nationale et populaire.\\nCofondateur du Mouvement Politique Citoyen.\\nRejoignez-nous, Adhérer ⤵️, Aidez-nous à sauver la France !'\"}]"
      ]
     },
     "execution_count": 4,
     "metadata": {},
     "output_type": "execute_result"
    }
   ],
   "source": [
    "make_promts(text1)"
   ]
  },
  {
   "cell_type": "markdown",
   "id": "434fb13f-3856-4751-8899-11c55ac69f06",
   "metadata": {},
   "source": [
    "### (2) Transformer model"
   ]
  },
  {
   "cell_type": "markdown",
   "id": "6e065a6b-1a8e-445b-8295-cd42392f879c",
   "metadata": {},
   "source": [
    "### (2.0) Monitor the gpu card memory usage "
   ]
  },
  {
   "cell_type": "code",
   "execution_count": 5,
   "id": "d45f69d0-96ff-4849-8ee0-765f88e159b9",
   "metadata": {},
   "outputs": [
    {
     "name": "stdout",
     "output_type": "stream",
     "text": [
      "Mon Jul  7 00:00:57 2025       \n",
      "+-----------------------------------------------------------------------------------------+\n",
      "| NVIDIA-SMI 560.35.05              Driver Version: 560.35.05      CUDA Version: 12.6     |\n",
      "|-----------------------------------------+------------------------+----------------------+\n",
      "| GPU  Name                 Persistence-M | Bus-Id          Disp.A | Volatile Uncorr. ECC |\n",
      "| Fan  Temp   Perf          Pwr:Usage/Cap |           Memory-Usage | GPU-Util  Compute M. |\n",
      "|                                         |                        |               MIG M. |\n",
      "|=========================================+========================+======================|\n",
      "|   0  NVIDIA RTX A4500               Off |   00000000:0A:00.0 Off |                  Off |\n",
      "| 37%   61C    P0             87W /  200W |       1MiB /  20470MiB |      0%      Default |\n",
      "|                                         |                        |                  N/A |\n",
      "+-----------------------------------------+------------------------+----------------------+\n",
      "|   1  NVIDIA RTX A4500               Off |   00000000:AE:00.0 Off |                  Off |\n",
      "| 44%   66C    P0             86W /  200W |       1MiB /  20470MiB |      0%      Default |\n",
      "|                                         |                        |                  N/A |\n",
      "+-----------------------------------------+------------------------+----------------------+\n",
      "                                                                                         \n",
      "+-----------------------------------------------------------------------------------------+\n",
      "| Processes:                                                                              |\n",
      "|  GPU   GI   CI        PID   Type   Process name                              GPU Memory |\n",
      "|        ID   ID                                                               Usage      |\n",
      "|=========================================================================================|\n",
      "|  No running processes found                                                             |\n",
      "+-----------------------------------------------------------------------------------------+\n"
     ]
    }
   ],
   "source": [
    "os.environ[\"CUDA_VISIBLE_DEVICES\"] = '1'\n",
    "!nvidia-smi"
   ]
  },
  {
   "cell_type": "markdown",
   "id": "450e8bc9-32a9-4a42-8630-e797cc7ad20c",
   "metadata": {},
   "source": [
    "### (2.1) Load the model"
   ]
  },
  {
   "cell_type": "code",
   "execution_count": 6,
   "id": "34859863-a8c0-4234-b622-3f6bfd056ce9",
   "metadata": {},
   "outputs": [
    {
     "data": {
      "application/vnd.jupyter.widget-view+json": {
       "model_id": "c2dd3be9144b415aafb67418577bc992",
       "version_major": 2,
       "version_minor": 0
      },
      "text/plain": [
       "Loading checkpoint shards:   0%|          | 0/4 [00:00<?, ?it/s]"
      ]
     },
     "metadata": {},
     "output_type": "display_data"
    },
    {
     "name": "stderr",
     "output_type": "stream",
     "text": [
      "Device set to use cuda:0\n"
     ]
    }
   ],
   "source": [
    "import transformers\n",
    "import torch\n",
    "\n",
    "model_id = \"meta-llama/Meta-Llama-3.1-8B-Instruct\"\n",
    "model_path = \"/store/huggingface_cache/models--meta-llama--Llama-3.1-8B-Instruct/snapshots/0e9e39f249a16976918f6564b8830bc894c89659\"\n",
    "pipeline = transformers.pipeline(\n",
    "    \"text-generation\",\n",
    "    model=model_path,\n",
    "    model_kwargs={\"torch_dtype\": torch.bfloat16},\n",
    "    device_map=\"auto\",\n",
    ")"
   ]
  },
  {
   "cell_type": "code",
   "execution_count": 7,
   "id": "e40c09f4-b93d-46e8-b038-10e2713cd74f",
   "metadata": {},
   "outputs": [
    {
     "name": "stdout",
     "output_type": "stream",
     "text": [
      "Mon Jul  7 00:01:47 2025       \n",
      "+-----------------------------------------------------------------------------------------+\n",
      "| NVIDIA-SMI 560.35.05              Driver Version: 560.35.05      CUDA Version: 12.6     |\n",
      "|-----------------------------------------+------------------------+----------------------+\n",
      "| GPU  Name                 Persistence-M | Bus-Id          Disp.A | Volatile Uncorr. ECC |\n",
      "| Fan  Temp   Perf          Pwr:Usage/Cap |           Memory-Usage | GPU-Util  Compute M. |\n",
      "|                                         |                        |               MIG M. |\n",
      "|=========================================+========================+======================|\n",
      "|   0  NVIDIA RTX A4500               Off |   00000000:0A:00.0 Off |                  Off |\n",
      "| 36%   63C    P0            101W /  200W |       1MiB /  20470MiB |      0%      Default |\n",
      "|                                         |                        |                  N/A |\n",
      "+-----------------------------------------+------------------------+----------------------+\n",
      "|   1  NVIDIA RTX A4500               Off |   00000000:AE:00.0 Off |                  Off |\n",
      "| 41%   61C    P2             83W /  200W |   15507MiB /  20470MiB |      0%      Default |\n",
      "|                                         |                        |                  N/A |\n",
      "+-----------------------------------------+------------------------+----------------------+\n",
      "                                                                                         \n",
      "+-----------------------------------------------------------------------------------------+\n",
      "| Processes:                                                                              |\n",
      "|  GPU   GI   CI        PID   Type   Process name                              GPU Memory |\n",
      "|        ID   ID                                                               Usage      |\n",
      "|=========================================================================================|\n",
      "|    1   N/A  N/A     74524      C   ...sions/3.12.7/envs/venice/bin/python      15498MiB |\n",
      "+-----------------------------------------------------------------------------------------+\n"
     ]
    }
   ],
   "source": [
    "!nvidia-smi"
   ]
  },
  {
   "cell_type": "markdown",
   "id": "e7330ffb-671c-428d-bbc2-1daeacf3ee3a",
   "metadata": {},
   "source": [
    "### (3) Request the model answer"
   ]
  },
  {
   "cell_type": "markdown",
   "id": "adb8bad3-ac4d-4842-9b4c-82c200434c38",
   "metadata": {},
   "source": [
    "#### (3.1) A single answer"
   ]
  },
  {
   "cell_type": "code",
   "execution_count": 8,
   "id": "bf15ec89-5d21-4d80-bce0-bbac4cb23dcc",
   "metadata": {},
   "outputs": [
    {
     "name": "stderr",
     "output_type": "stream",
     "text": [
      "Setting `pad_token_id` to `eos_token_id`:128001 for open-end generation.\n"
     ]
    }
   ],
   "source": [
    "start = time.time()\n",
    "outputs = pipeline(\n",
    "    make_promts(text1),\n",
    "    temperature=0.6,\n",
    "    top_p=0.9, # The model will only consider the results of the tokens with top_p 90% probability mass.\n",
    "    max_new_tokens=32 # ~ 0.75 * 32 = 24 words\n",
    ")\n",
    "end = time.time()"
   ]
  },
  {
   "cell_type": "code",
   "execution_count": 9,
   "id": "e46e204e-dc43-44d9-9b83-6621351f4e5f",
   "metadata": {},
   "outputs": [
    {
     "name": "stdout",
     "output_type": "stream",
     "text": [
      "Took 2.4522247314453125 seconds.\n",
      "[{'generated_text': [{'role': 'system', 'content': 'You are an expert in politics.'}, {'role': 'user', 'content': \"Please classify the following social media profile according\\nto whether it expresses support or positive attitudes towards  French righ wing parties.\\nHere is the message: 'Gaulliste/souveraineté nationale et populaire.\\nCofondateur du Mouvement Politique Citoyen.\\nRejoignez-nous, Adhérer ⤵️, Aidez-nous à sauver la France !'\"}, {'role': 'assistant', 'content': 'Based on the information provided, I would classify this social media profile as expressing support for the French right-wing parties, specifically those with Gaullist and nationalist ideologies'}]}]\n",
      "ANSWER:\n",
      "\tBased on the information provided, I would classify this social media profile as expressing support for the French right-wing parties, specifically those with Gaullist and nationalist ideologies\n"
     ]
    }
   ],
   "source": [
    "print(f\"Took {end - start} seconds.\")\n",
    "print(outputs)\n",
    "answer = outputs[0][\"generated_text\"][-1][\"content\"]\n",
    "print(f\"ANSWER:\\n\\t{answer}\")"
   ]
  },
  {
   "cell_type": "code",
   "execution_count": 10,
   "id": "e65589d4-ae22-4076-87fe-fcf8c6b6541b",
   "metadata": {},
   "outputs": [
    {
     "name": "stdout",
     "output_type": "stream",
     "text": [
      "2.45 seconds for one request means 63.7 days per 5.5 millons of requests.\n"
     ]
    }
   ],
   "source": [
    "print(f\"{end - start:.2f} seconds for one request means {1 * 5.5e6 / (24 * 60 * 60):.1f} days per 5.5 millons of requests.\")"
   ]
  },
  {
   "cell_type": "markdown",
   "id": "16c8208f-3cd0-46e4-b9f0-18bab930dbcf",
   "metadata": {},
   "source": [
    "#### (3.2) Many answers"
   ]
  },
  {
   "cell_type": "code",
   "execution_count": 12,
   "id": "ce6ef8c4-febf-4caf-b622-d516f7d0712e",
   "metadata": {},
   "outputs": [],
   "source": [
    "from string import Template\n",
    "\n",
    "nb_texts = 10\n",
    "gen = DocumentGenerator()\n",
    "list_of_texts = [gen.sentence() for _ in range(nb_texts)]\n",
    "list_of_messages = [make_promts(text) for text in list_of_texts]"
   ]
  },
  {
   "cell_type": "code",
   "execution_count": 13,
   "id": "39abfeee-1e54-4a19-b688-19388f6568fe",
   "metadata": {},
   "outputs": [
    {
     "name": "stdout",
     "output_type": "stream",
     "text": [
      "Mean text lenght is 57.6 words.\n"
     ]
    }
   ],
   "source": [
    "print(f\"Mean text lenght is {sum([len(t) for t in list_of_texts]) / nb_texts} words.\")"
   ]
  },
  {
   "cell_type": "code",
   "execution_count": 14,
   "id": "b55aa776-4b2e-4b73-b084-d92201bc6737",
   "metadata": {},
   "outputs": [
    {
     "name": "stderr",
     "output_type": "stream",
     "text": [
      "Setting `pad_token_id` to `eos_token_id`:128001 for open-end generation.\n",
      "Setting `pad_token_id` to `eos_token_id`:128001 for open-end generation.\n",
      "Setting `pad_token_id` to `eos_token_id`:128001 for open-end generation.\n",
      "Setting `pad_token_id` to `eos_token_id`:128001 for open-end generation.\n",
      "Setting `pad_token_id` to `eos_token_id`:128001 for open-end generation.\n",
      "Setting `pad_token_id` to `eos_token_id`:128001 for open-end generation.\n",
      "Setting `pad_token_id` to `eos_token_id`:128001 for open-end generation.\n",
      "Setting `pad_token_id` to `eos_token_id`:128001 for open-end generation.\n",
      "Setting `pad_token_id` to `eos_token_id`:128001 for open-end generation.\n",
      "Setting `pad_token_id` to `eos_token_id`:128001 for open-end generation.\n"
     ]
    }
   ],
   "source": [
    "start = time.time()\n",
    "outputs = pipeline(\n",
    "        list_of_messages,\n",
    "        temperature=0.6,\n",
    "        top_p=0.9,\n",
    "        max_new_tokens=32\n",
    "    )\n",
    "took  = time.time() - start\n",
    "per_request_time = took / nb_texts"
   ]
  },
  {
   "cell_type": "code",
   "execution_count": 16,
   "id": "084e90d5-1bad-4886-9bbc-3aab93bd0ad8",
   "metadata": {},
   "outputs": [
    {
     "name": "stdout",
     "output_type": "stream",
     "text": [
      "Took 0.97 seconds per request.\n"
     ]
    }
   ],
   "source": [
    "print(f\"Took {per_request_time:.2f} seconds per request.\")"
   ]
  },
  {
   "cell_type": "code",
   "execution_count": 19,
   "id": "4d585e2a-b017-49d1-a402-b10f6bc8530f",
   "metadata": {},
   "outputs": [
    {
     "name": "stdout",
     "output_type": "stream",
     "text": [
      "0.97 seconds per reques means 61.9 days per 5.5 millons of requests.\n"
     ]
    }
   ],
   "source": [
    "print(f\"{per_request_time:.2f} seconds per reques means {per_request_time * 5.5e6 / (24 * 60 * 60):.1f} days per 5.5 millons of requests.\")"
   ]
  }
 ],
 "metadata": {
  "kernelspec": {
   "display_name": "Python 3 (ipykernel)",
   "language": "python",
   "name": "python3"
  },
  "language_info": {
   "codemirror_mode": {
    "name": "ipython",
    "version": 3
   },
   "file_extension": ".py",
   "mimetype": "text/x-python",
   "name": "python",
   "nbconvert_exporter": "python",
   "pygments_lexer": "ipython3",
   "version": "3.12.7"
  }
 },
 "nbformat": 4,
 "nbformat_minor": 5
}
